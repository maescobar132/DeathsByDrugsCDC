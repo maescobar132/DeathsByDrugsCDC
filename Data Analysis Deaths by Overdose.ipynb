{
 "cells": [
  {
   "cell_type": "markdown",
   "id": "fba9c726",
   "metadata": {},
   "source": [
    "# Setup\n"
   ]
  },
  {
   "cell_type": "code",
   "execution_count": 1,
   "id": "66ac048f",
   "metadata": {},
   "outputs": [],
   "source": [
    "import numpy as np\n",
    "import os\n",
    "import pandas as pd\n",
    "import matplotlib as mpl\n",
    "import matplotlib.pyplot as plt\n",
    "\n",
    "# where to save figures\n",
    "\n",
    "PROJECT_ROOT_DIR = \".\"\n",
    "ID = \"exploration\"\n",
    "IMAGES_PATH = os.path.join(PROJECT_ROOT_DIR, \"images\", ID)\n",
    "os.makedirs(IMAGES_PATH, exist_ok=True)\n",
    "\n",
    "def save_fig(fig_id, tight_layout=True, fig_extension=\"png\", resolution=300):\n",
    "    path = os.path.join(IMAGES_PATH, fig_id + \".\" + fig_extension)\n",
    "    print(\"Saving figure\", fig_id)\n",
    "    if tight_layout:\n",
    "        plt.tight_layout()\n",
    "    plt.savefig(path, format=fig_extension, dpi=resolution)\n"
   ]
  },
  {
   "cell_type": "markdown",
   "id": "2a8af038",
   "metadata": {},
   "source": [
    "# Download Data"
   ]
  },
  {
   "cell_type": "code",
   "execution_count": 2,
   "id": "9f326734",
   "metadata": {},
   "outputs": [
    {
     "data": {
      "text/plain": "('datasets\\\\overdose\\\\overdoses.csv',\n <http.client.HTTPMessage at 0x20c41b82460>)"
     },
     "execution_count": 2,
     "metadata": {},
     "output_type": "execute_result"
    }
   ],
   "source": [
    "import urllib.request\n",
    "datapath=os.path.join(\"datasets\",\"overdose\",\"\")\n",
    "filename=\"overdoses.csv\"\n",
    "DOWNLOAD_ROOT = \"https://data.cdc.gov/api/views/xkb8-kh2a/rows.csv?accessType=DOWNLOAD&bom=true&format=true\"\n",
    "os.makedirs(datapath, exist_ok=True)\n",
    "url = DOWNLOAD_ROOT\n",
    "urllib.request.urlretrieve(url, datapath + filename)"
   ]
  },
  {
   "cell_type": "markdown",
   "id": "39982ed7",
   "metadata": {},
   "source": [
    "# Generate Pandas Dataset\n"
   ]
  },
  {
   "cell_type": "code",
   "execution_count": 6,
   "id": "69668bf6",
   "metadata": {},
   "outputs": [
    {
     "name": "stdout",
     "output_type": "stream",
     "text": [
      "      State  Year      Month           Period  \\\n",
      "0        AK  2015      April  12 month-ending   \n",
      "1        AK  2015      April  12 month-ending   \n",
      "2        AK  2015      April  12 month-ending   \n",
      "3        AK  2015      April  12 month-ending   \n",
      "4        AK  2015      April  12 month-ending   \n",
      "...     ...   ...        ...              ...   \n",
      "47719    YC  2021  September  12 month-ending   \n",
      "47720    YC  2021  September  12 month-ending   \n",
      "47721    YC  2021  September  12 month-ending   \n",
      "47722    YC  2021  September  12 month-ending   \n",
      "47723    YC  2021  September  12 month-ending   \n",
      "\n",
      "                                               Indicator Data Value  \\\n",
      "0             Synthetic opioids, excl. methadone (T40.4)        NaN   \n",
      "1                                         Heroin (T40.1)        NaN   \n",
      "2      Natural, semi-synthetic, & synthetic opioids, ...        NaN   \n",
      "3          Psychostimulants with abuse potential (T43.6)        NaN   \n",
      "4                                        Cocaine (T40.5)        NaN   \n",
      "...                                                  ...        ...   \n",
      "47719  Natural, semi-synthetic, & synthetic opioids, ...      2,008   \n",
      "47720                                     Heroin (T40.1)        740   \n",
      "47721                                    Cocaine (T40.5)      1,031   \n",
      "47722                        Opioids (T40.0-T40.4,T40.6)      2,071   \n",
      "47723         Synthetic opioids, excl. methadone (T40.4)      1,869   \n",
      "\n",
      "       Percent Complete  Percent Pending Investigation     State Name  \\\n",
      "0                   100                       0.000000         Alaska   \n",
      "1                   100                       0.000000         Alaska   \n",
      "2                   100                       0.000000         Alaska   \n",
      "3                   100                       0.000000         Alaska   \n",
      "4                   100                       0.000000         Alaska   \n",
      "...                 ...                            ...            ...   \n",
      "47719               100                       0.565043  New York City   \n",
      "47720               100                       0.565043  New York City   \n",
      "47721               100                       0.565043  New York City   \n",
      "47722               100                       0.565043  New York City   \n",
      "47723               100                       0.565043  New York City   \n",
      "\n",
      "                                                Footnote Footnote Symbol  \\\n",
      "0      Numbers may differ from published reports usin...              **   \n",
      "1      Numbers may differ from published reports usin...              **   \n",
      "2      Numbers may differ from published reports usin...              **   \n",
      "3      Numbers may differ from published reports usin...              **   \n",
      "4      Numbers may differ from published reports usin...              **   \n",
      "...                                                  ...             ...   \n",
      "47719              Underreported due to incomplete data.               *   \n",
      "47720              Underreported due to incomplete data.               *   \n",
      "47721              Underreported due to incomplete data.               *   \n",
      "47722              Underreported due to incomplete data.               *   \n",
      "47723              Underreported due to incomplete data.               *   \n",
      "\n",
      "      Predicted Value  \n",
      "0                 NaN  \n",
      "1                 NaN  \n",
      "2                 NaN  \n",
      "3                 NaN  \n",
      "4                 NaN  \n",
      "...               ...  \n",
      "47719           2,153  \n",
      "47720             788  \n",
      "47721           1,102  \n",
      "47722           2,214  \n",
      "47723           2,006  \n",
      "\n",
      "[47724 rows x 12 columns]\n"
     ]
    }
   ],
   "source": [
    "datapath=os.path.join(\"datasets\",\"overdose\",\"\")\n",
    "filename=\"overdoses.csv\"\n",
    "overdose_ds=pd.read_csv(datapath+filename)\n",
    "print(overdose_ds)\n"
   ]
  },
  {
   "cell_type": "markdown",
   "id": "f4fa66b4",
   "metadata": {},
   "source": [
    "## Clean DataSet"
   ]
  },
  {
   "cell_type": "code",
   "execution_count": null,
   "id": "a7add13f",
   "metadata": {},
   "outputs": [],
   "source": [
    "overdose_ds.drop([\"Footnote\", \"Percent Pending Investigation\", \"Footnote Symbol\", \"Period\", \"Percent Complete\", \"Predicted Value\", \"State Name\"], axis=1, inplace=True)\n",
    "\n",
    "overdose_ds=overdose_ds.drop(overdose_ds[overdose_ds.Indicator==\"Number of Deaths\"])\n",
    "                                         #verdose_ds.drop([\"YC\", \"DC\"], axis=0, inplace=True)\n",
    "print(overdose_ds.head())"
   ]
  },
  {
   "cell_type": "code",
   "execution_count": null,
   "id": "436466ad",
   "metadata": {},
   "outputs": [],
   "source": []
  }
 ],
 "metadata": {
  "kernelspec": {
   "display_name": "Python 3 (ipykernel)",
   "language": "python",
   "name": "python3"
  },
  "language_info": {
   "codemirror_mode": {
    "name": "ipython",
    "version": 3
   },
   "file_extension": ".py",
   "mimetype": "text/x-python",
   "name": "python",
   "nbconvert_exporter": "python",
   "pygments_lexer": "ipython3",
   "version": "3.9.7"
  }
 },
 "nbformat": 4,
 "nbformat_minor": 5
}